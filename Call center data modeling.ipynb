{
 "cells": [
  {
   "cell_type": "markdown",
   "metadata": {},
   "source": [
    "# CS146 Assignment 2\n",
    "## Fall 2019, Cs 146\n",
    "### Berfin Karaman"
   ]
  },
  {
   "cell_type": "markdown",
   "metadata": {},
   "source": [
    "#### 1. Call center data modeling\n",
    "\n",
    "Complete the call center data modeling assignment we start in the Pre-class work and Activity 2\n",
    "breakouts of Session 2.2. You may re-use and build on all code or any other work from the class\n",
    "session.\n",
    "\n",
    "\n",
    "In class, we completed the Bayesian data modeling problem for 1 hour of the day. In this\n",
    "assignment, you need to do the same analysis for all 24 hours of the day.\n",
    "\n",
    "1. Compute a 98% posterior confidence interval over the number of calls per minute (the call\n",
    "rate λ ) for each hour of the day — so you will have 24 confidence intervals. Also, compute\n",
    "the posterior mean of λ for each hour of the day.\n",
    "\n",
    "2. Present your results graphically using Matplotlib. Make a plot that looks like the one below.\n",
    "Each dot is at the posterior mean and each line shows a 98% confidence interval for a λ.\n",
    "You can use the errorbar() function in the plotting library to do this.\n",
    "\n",
    "3. Write a paragraph (100–200 words) to accompany your plot and present your findings to\n",
    "the client. Carefully summarize how many calls you expect during different parts of the day,\n",
    "and how much uncertainty there is in your estimates. Remember that the client is not an\n",
    "expert in statistics, so make it easy for them to understand. You may also make additional\n",
    "plots to help communicate your results."
   ]
  },
  {
   "cell_type": "code",
   "execution_count": 12,
   "metadata": {},
   "outputs": [],
   "source": [
    "import numpy as np\n",
    "import scipy as sp\n",
    "import scipy.stats as sts\n",
    "import matplotlib.pyplot as plt\n",
    "\n",
    "%matplotlib inline\n",
    "\n",
    "# Load the data set containing durations between calls arriving at the call\n",
    "# center during 1 day. All values are in minutes.\n",
    "waiting_times_day = np.loadtxt('call_center.csv')\n",
    "\n",
    "# Make 24 empty lists, one per hour.\n",
    "waiting_times_per_hour = [[] for _ in range(24)]\n",
    "\n",
    "# Split the data into 24 separate series, one for each hour of the day.\n",
    "current_time = 0\n",
    "for t in waiting_times_day:\n",
    "    current_hour = int(current_time // 60)\n",
    "    current_time += t\n",
    "    waiting_times_per_hour[current_hour].append(t)\n"
   ]
  },
  {
   "cell_type": "code",
   "execution_count": 11,
   "metadata": {},
   "outputs": [
    {
     "name": "stdout",
     "output_type": "stream",
     "text": [
      "Posterior 98% interval for 0 : [0.02, 0.2] calls per minute\n",
      "Expected value: λ = 0.09844355612748837 calls per minute\n",
      "Posterior 98% interval for 1 : [0.02, 0.16] calls per minute\n",
      "Expected value: λ = 0.07583345264771416 calls per minute\n",
      "Posterior 98% interval for 2 : [0.02, 0.18] calls per minute\n",
      "Expected value: λ = 0.09130949558511654 calls per minute\n",
      "Posterior 98% interval for 3 : [0.08, 0.46] calls per minute\n",
      "Expected value: λ = 0.24265309377012 calls per minute\n",
      "Posterior 98% interval for 4 : [0.26, 0.66] calls per minute\n",
      "Expected value: λ = 0.4423328964613368 calls per minute\n",
      "Posterior 98% interval for 5 : [0.64, 1.2] calls per minute\n",
      "Expected value: λ = 0.903312144529943 calls per minute\n",
      "Posterior 98% interval for 6 : [1.22, 1.98] calls per minute\n",
      "Expected value: λ = 1.5911875564257962 calls per minute\n",
      "Posterior 98% interval for 7 : [2.38, 3.4] calls per minute\n",
      "Expected value: λ = 2.8810069616056153 calls per minute\n",
      "Posterior 98% interval for 8 : [3.66, 4.9] calls per minute\n",
      "Expected value: λ = 4.256924597345015 calls per minute\n",
      "Posterior 98% interval for 9 : [5.0200000000000005, 6.46] calls per minute\n",
      "Expected value: λ = 5.728695915357027 calls per minute\n",
      "Posterior 98% interval for 10 : [7.42, 9.16] calls per minute\n",
      "Expected value: λ = 8.279464701498698 calls per minute\n",
      "Posterior 98% interval for 11 : [9.86, 9.98] calls per minute\n",
      "Expected value: λ = 9.971439180641422 calls per minute\n",
      "Posterior 98% interval for 12 : [9.82, 9.98] calls per minute\n",
      "Expected value: λ = 9.96345011937618 calls per minute\n",
      "Posterior 98% interval for 13 : [5.6000000000000005, 7.12] calls per minute\n",
      "Expected value: λ = 6.349423180600142 calls per minute\n",
      "Posterior 98% interval for 14 : [2.58, 3.64] calls per minute\n",
      "Expected value: λ = 3.094053744378927 calls per minute\n",
      "Posterior 98% interval for 15 : [2.9, 4.0200000000000005] calls per minute\n",
      "Expected value: λ = 3.4522059513043106 calls per minute\n",
      "Posterior 98% interval for 16 : [3.7600000000000002, 5.0200000000000005] calls per minute\n",
      "Expected value: λ = 4.379532982528318 calls per minute\n",
      "Posterior 98% interval for 17 : [6.2, 7.78] calls per minute\n",
      "Expected value: λ = 6.972251600671257 calls per minute\n",
      "Posterior 98% interval for 18 : [7.92, 9.68] calls per minute\n",
      "Expected value: λ = 8.795622435121262 calls per minute\n",
      "Posterior 98% interval for 19 : [5.88, 7.44] calls per minute\n",
      "Expected value: λ = 6.647526432206255 calls per minute\n",
      "Posterior 98% interval for 20 : [1.84, 2.7600000000000002] calls per minute\n",
      "Expected value: λ = 2.2851132488879116 calls per minute\n",
      "Posterior 98% interval for 21 : [0.58, 1.12] calls per minute\n",
      "Expected value: λ = 0.8305780503777536 calls per minute\n",
      "Posterior 98% interval for 22 : [0.18, 0.52] calls per minute\n",
      "Expected value: λ = 0.3409090909090915 calls per minute\n"
     ]
    },
    {
     "data": {
      "text/plain": [
       "\"plt.figure(figsize=(8, 6))\\n    plt.plot(lambdas, posterior, label='posterior')\\n    plt.axvline(percentiles[0], color='red', linestyle=':', label='98% interval')\\n    plt.axvline(percentiles[1], color='red', linestyle=':')\\n    plt.xlabel('λ [calls per minute]')\\n    plt.ylabel('probability density')\\n    plt.title(f'Inference results for hour {hour_index}')\\n    plt.legend()\\n    plt.show()\""
      ]
     },
     "execution_count": 11,
     "metadata": {},
     "output_type": "execute_result"
    }
   ],
   "source": [
    "# Exponential distribution with maximum likelihood fit to the data\n",
    "\n",
    "# THE LIKELIHOOD FUNCTION\n",
    "#\n",
    "# This function takes 2 inputs, namely the parameter (λ) value at which to\n",
    "# compute the likelihood and a value from the data set. You need to evaluate\n",
    "# the exponential distribution of the datum given the parameter value.\n",
    "\n",
    "def likelihood(lambda_, datum):\n",
    "    return sts.expon(scale=1/lambda_).pdf(datum)\n",
    "\n",
    "# THE PRIOR DISTRIBUTION\n",
    "#\n",
    "# This function takes 1 input, namely the parameter value (λ) at which to\n",
    "# compute the prior probability density. You need to evaluate the distribution\n",
    "# Gamma(λ | α, β).\n",
    "\n",
    "def prior(lambda_):\n",
    "    return sts.gamma(1, scale=1/0.25).pdf(lambda_)\n",
    "\n",
    "# THE POSTERIOR DISTRIBUTION\n",
    "#\n",
    "# The function below is provided to help make computing the posterior easier. It\n",
    "# follows the same pattern as in the previous class, where we multiple the prior\n",
    "# and the likelihood evaluated at various values of the parameter (λ).\n",
    "#\n",
    "# You will see the function uses the logarithms of various distributions. This\n",
    "# is for numerical reasons. When you multiply lots of likelihood values, the\n",
    "# result can become very large or very small, causing numerical overflow or\n",
    "# underflow in Python. Taking logarithms avoids this problem.\n",
    "\n",
    "def compute_posterior(parameter_values, prior, likelihood, data):\n",
    "    log_prior = np.log(prior(parameter_values))\n",
    "    log_likelihood = np.array([\n",
    "        np.sum(np.log(likelihood(param, data)))\n",
    "        for param in parameter_values])\n",
    "    unnormalized_log_posterior = log_prior + log_likelihood\n",
    "    unnormalized_log_posterior -= max(unnormalized_log_posterior)\n",
    "    unnormalized_posterior = np.exp(unnormalized_log_posterior)\n",
    "    area = sp.integrate.trapz(unnormalized_posterior, parameter_values)\n",
    "    posterior = unnormalized_posterior / area\n",
    "    return posterior\n",
    "\n",
    "def compute_percentile(parameter_values, distribution_values, percentile):\n",
    "    '''\n",
    "    Compute the parameter value at a particular percentile of the given\n",
    "    probability distribution values. This function uses the cumulative trapezoid\n",
    "    integrator in SciPy.\n",
    "\n",
    "    Inputs:\n",
    "\n",
    "        parameter_values (array of float) This is the list of parameter values\n",
    "          at which the probability distribution has been evaluated.\n",
    "\n",
    "        distribution_values (array of float) This is the list of values of the\n",
    "          probability density function evaluated at the parameter values above.\n",
    "\n",
    "        percentile (float) This is the value between 0 and 1 of the percentile\n",
    "          to compute.\n",
    "\n",
    "    Returns: (float) The parameter value at the given percentile.\n",
    "    '''\n",
    "    cumulative_distribution = sp.integrate.cumtrapz(\n",
    "        distribution_values, parameter_values)\n",
    "    percentile_index = np.searchsorted(cumulative_distribution, percentile)\n",
    "    return lambdas[percentile_index]\n",
    "\n",
    "#empty lists to store the mean values for each hour and the confidence intervals\n",
    "x=[]\n",
    "y=[]\n",
    "dy=[]\n",
    "for i in range(0, 23):\n",
    "    hour_index = i\n",
    "\n",
    "    waiting_times_hour = waiting_times_per_hour[hour_index]\n",
    "    \n",
    "    lambda_ = 1 / np.mean(waiting_times_hour)\n",
    "    distribution = sts.expon(scale=1/lambda_)\n",
    "\n",
    " \n",
    "    lambdas = np.linspace(0, 10, 501)[1:]\n",
    "    posterior = compute_posterior(lambdas, prior, likelihood, waiting_times_hour)\n",
    "\n",
    "    # Calculates the confidence interval for 98%\n",
    "    percentiles = [compute_percentile(lambdas, posterior, p) for p in [0.01, 0.99]]\n",
    "    print('Posterior 98% interval for',hour_index,\":\", percentiles, 'calls per minute')\n",
    "    # Calculates the expected value by using the likelihood and the prior\n",
    "    lambda_ = sp.integrate.trapz(posterior * lambdas, lambdas)\n",
    "    x.append(hour_index)\n",
    "    y.append(lambda_)\n",
    "    (percentiles[1]-percentiles[0])/2\n",
    "    dy.append((percentiles[1]-percentiles[0])/2)\n",
    "    print('Expected value: λ =', lambda_, 'calls per minute')\n",
    "    \n",
    "#if we want to graph the individual pdf graphs for each hour we can use the following code.\n",
    "\"\"\"plt.figure(figsize=(8, 6))\n",
    "    plt.plot(lambdas, posterior, label='posterior')\n",
    "    plt.axvline(percentiles[0], color='red', linestyle=':', label='98% interval')\n",
    "    plt.axvline(percentiles[1], color='red', linestyle=':')\n",
    "    plt.xlabel('λ [calls per minute]')\n",
    "    plt.ylabel('probability density')\n",
    "    plt.title(f'Inference results for hour {hour_index}')\n",
    "    plt.legend()\n",
    "    plt.show()\"\"\"\n"
   ]
  },
  {
   "cell_type": "code",
   "execution_count": 10,
   "metadata": {},
   "outputs": [
    {
     "data": {
      "image/png": "[encoded data removed]",
      "text/plain": [
       "<Figure size 1296x720 with 1 Axes>"
      ]
     },
     "metadata": {
      "needs_background": "light"
     },
     "output_type": "display_data"
    },
    {
     "data": {
      "image/png": "[encoded data removed]",
      "text/plain": [
       "<Figure size 576x432 with 1 Axes>"
      ]
     },
     "metadata": {
      "needs_background": "light"
     },
     "output_type": "display_data"
    }
   ],
   "source": [
    "\n",
    "#Plot for the means and 98% confidence interval\n",
    "plt.figure(figsize=(18, 10))\n",
    "plt.errorbar(x, y, yerr=dy, fmt='o')\n",
    "plt.xlabel('Hour of the day')\n",
    "plt.ylabel('Call rate (calls per minute)')\n",
    "plt.title('Mean and 98% confidence interval over call rate')\n",
    "plt.errorbar(x, y, yerr=dy, fmt='o', color =\"blue\")\n",
    "plt.show()\n",
    "\n",
    "\n",
    "# Plot the number of calls per hour using a bar chart to help the client see the over all \n",
    "plt.figure(figsize=(8, 6))\n",
    "plt.bar(range(24), [len(w) for w in waiting_times_per_hour])\n",
    "plt.xlabel('Hour of the day')\n",
    "plt.ylabel('Number of calls')\n",
    "plt.title('Number of calls per hour in the data set')\n",
    "plt.show()\n",
    "\n"
   ]
  },
  {
   "cell_type": "markdown",
   "metadata": {},
   "source": [
    "###### 3. Write a paragraph (100–200 words) to accompany your plot and present your findings to the client. Carefully summarize how many calls you expect during different parts of the day, and how much uncertainty there is in your estimates. Remember that the client is not an expert in statistics, so make it easy for them to understand. You may also make additional plots to help communicate your results.\n",
    "\n",
    "The first graph is a scatter plot that shows the call rate of each hour throughout the day. On the x-axis, we have the hours of the day, and on the y-axis, we have the expected calls per minute in the given hour. The number of calls should be integer however when you want to find the average number of class per minute; you will need to average the calls that received in an hour to come up with an estimated value. The error bars in the graph illustrates the 98% confidence interval. In other words, we are 98% confident that the average calls per minute at a given hour will be in this interval. The second graph is a bar chart that shows the total number of calls per hour change over 24 hours. As of the analysis, until 5 am, the expected number of calls per minute is under 1. From 5 am to 12 pm, the expected calls per minute increase ever hour and reache almost 10 calls per minute at 12 pm. Until 2 pm, the expected number of calls have a decreasing trend. Then starting from 3 pm, the number of expected calls starts increasing and makes a peak at 6 pm. Overall we can observe too peak time hours, firstly around noon/lunchtime and then around 6 pm when people generally finish work. Employing more people for the given shifts can be an excellent way to optimize consumer services via the call center. "
   ]
  },
  {
   "cell_type": "code",
   "execution_count": null,
   "metadata": {},
   "outputs": [],
   "source": []
  }
 ],
 "metadata": {
  "kernelspec": {
   "display_name": "Python 3",
   "language": "python",
   "name": "python3"
  },
  "language_info": {
   "codemirror_mode": {
    "name": "ipython",
    "version": 3
   },
   "file_extension": ".py",
   "mimetype": "text/x-python",
   "name": "python",
   "nbconvert_exporter": "python",
   "pygments_lexer": "ipython3",
   "version": "3.7.3"
  }
 },
 "nbformat": 4,
 "nbformat_minor": 2
}
