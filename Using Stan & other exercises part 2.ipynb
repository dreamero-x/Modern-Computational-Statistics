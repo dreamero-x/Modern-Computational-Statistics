{
 "cells": [
  {
   "cell_type": "markdown",
   "metadata": {},
   "source": [
    "# Assignment 4\n",
    "\n",
    "The eczema medical trial data set.\n",
    "\n",
    "\n",
    "\n",
    "|Study          | Treatment group |   Control group  |\n",
    "|---------------|-----------------|------------------|\n",
    "|Di Rienzo 2014 |     20 / 23     |        9 / 15    |\n",
    "|Galli 1994     |     10 / 16     |       11 / 18    |\n",
    "|Kaufman 1974   |     13 / 16     |        4 / 10    |\n",
    "|Qin 2014       |     35 / 45     |       21 / 39    |\n",
    "|Sanchez 2012   |     22 / 31     |       12 / 29    |\n",
    "|Silny 2006     |      7 / 10     |        0 / 10    |\n",
    "|**Totals**     |    107 / 141    |       57 / 121   |\n",
    "\n",
    "### Assumptions:\n",
    "\n",
    "In a non-hierarchical model, we assume that this 6 different trials has the same fixed probability of success. We know that the priors over theta is uniform. Based on these information we have a model where the posterior for the control group is $\\text{Beta}(\\theta_c\\,|\\,58, 65)$.\n",
    "\n",
    "\n",
    "We can use the posterior predictive checks for model checking. An example for the test statistics that we can use is the standart deviation as an indicator for how much the width of two distibution varies."
   ]
  },
  {
   "cell_type": "code",
   "execution_count": null,
   "metadata": {},
   "outputs": [],
   "source": [
    "#importing the necessary library\n",
    "\n",
    "import matplotlib.pyplot as plt\n",
    "import numpy as np\n",
    "import scipy.stats as sts"
   ]
  },
  {
   "cell_type": "code",
   "execution_count": 39,
   "metadata": {},
   "outputs": [
    {
     "name": "stdout",
     "output_type": "stream",
     "text": [
      "The test statistics for the original dataset:  0.22780767635314217\n",
      "The mean of test statistic from 2000 samples:  0.11802503999611318\n",
      "P-value:  0.0045\n"
     ]
    },
    {
     "data": {
      "image/png": "[encoded data removed]",
      "text/plain": [
       "<Figure size 864x432 with 1 Axes>"
      ]
     },
     "metadata": {
      "needs_background": "light"
     },
     "output_type": "display_data"
    }
   ],
   "source": [
    "#Defining the size of the each control group and the number of success at each group\n",
    "control_size = [15, 18, 10, 39, 29, 10]\n",
    "control_success = [9, 11, 4, 21, 12, 0]\n",
    "control_probability = np.divide(control_success,control_size)\n",
    "control_fail = np.subtract(control_size, control_success)\n",
    "\n",
    "#Since I want to use the standart deviation as the test statistic \n",
    "#I will define the test_statitic as sigma\n",
    "def test_statistic(data):\n",
    "    #setting ddof=1 to geth the unbiased estimator of the variance\n",
    "    sigma = np.std(data, ddof=1) \n",
    "    return sigma\n",
    "\n",
    "#posterior samples based on the posterior for control group\n",
    "posterior_samples_control = sts.beta(58,65).rvs(2000)\n",
    "\n",
    "#Since we would like to replicate original dataset, we would like to have 6 different trials for \n",
    "#each control list as we have in the original dataset\n",
    "#This for loop replicates the data and returns a list with the test statistics for each sample\n",
    "\n",
    "test_statistics_control =[]\n",
    "for i in posterior_samples_control:\n",
    "    #creating an empty array to store the 6 different values that will be created by the nested for loop\n",
    "    trials =[]\n",
    "    for j in control_size:\n",
    "        #dividing the binomial distibution with the size so we will have the probability\n",
    "        trials.append(sts.binom(j, i).rvs(1)/j)   \n",
    "    test_statistics_control.append(test_function(trials)) \n",
    "    \n",
    "\n",
    "#Test statistics for the original dataset    \n",
    "test_statistic_original = test_statistic(control_probability)\n",
    "#calculating the pvalue\n",
    "pvalue = sum([1 for i in test_statistics_control if i > test_statistic_original])/len(test_statistics_control)\n",
    "\n",
    "\n",
    "print(\"The test statistics for the original dataset: \",test_statistic_original)\n",
    "print(\"The mean of test statistic from 2000 samples: \", np.mean(test_statistics_control))\n",
    "print(\"P-value: \", pvalue)\n",
    "\n",
    "\n",
    "#Plotting the histogram\n",
    "plt.figure(figsize=(12, 6))\n",
    "plt.hist(test_statistics_control, alpha=0.5, density=True)\n",
    "plt.title('Test statistic distribution on replicated data. P-value: %.3f' % pvalue)\n",
    "plt.axvline(test_statistic_original, color='black')\n",
    "plt.show()\n",
    "\n",
    "\n",
    "\n",
    "\n"
   ]
  },
  {
   "cell_type": "markdown",
   "metadata": {},
   "source": [
    "### Evaluation:\n",
    "\n",
    "Since the p-value is not 0.5, we can say that the test statistics for the samples is not centered at the test statistics for the original. Our p-value is closer to 0 so we can say that the samples test statistics from the original data set is to the less than the test statistics for the original data set. We can also see this by examining the histogram above. We can conclude that this model does not explain the control group data\n",
    "well. "
   ]
  }
 ],
 "metadata": {
  "kernelspec": {
   "display_name": "Python 3",
   "language": "python",
   "name": "python3"
  },
  "language_info": {
   "codemirror_mode": {
    "name": "ipython",
    "version": 3
   },
   "file_extension": ".py",
   "mimetype": "text/x-python",
   "name": "python",
   "nbconvert_exporter": "python",
   "pygments_lexer": "ipython3",
   "version": "3.7.3"
  }
 },
 "nbformat": 4,
 "nbformat_minor": 1
}
